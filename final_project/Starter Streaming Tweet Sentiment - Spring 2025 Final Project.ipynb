{
 "cells": [
  {
   "cell_type": "markdown",
   "metadata": {
    "application/vnd.databricks.v1+cell": {
     "cellMetadata": {
      "byteLimit": 2048000,
      "rowLimit": 10000
     },
     "inputWidgets": {},
     "nuid": "fc749083-2211-485c-943f-640e198b2c70",
     "showTitle": false,
     "tableResultSettingsMap": {},
     "title": ""
    }
   },
   "source": [
    "## DSCC202-402 Data Science at Scale Final Project\n",
    "### Tracking Tweet sentiment at scale using a pretrained transformer (classifier)\n",
    "<p>Consider the following illustration of the end to end system that you will be building.  Each student should do their own work.  The project will demonstrate your understanding of Spark Streaming, the medalion data architecture using Delta Lake, Spark Inference at Scale using an MLflow packaged model as well as Exploritory Data Analysis and System Tracking and Monitoring.</p>\n",
    "<br><br>\n",
    "<img src=\"https://data-science-at-scale.s3.amazonaws.com/images/pipeline.drawio.png\">\n",
    "\n",
    "<p>\n",
    "You will be pulling an updated copy of the course GitHub repositiory: <a href=\"https://github.com/lpalum/dscc202-402-spring2025\">The Repo</a>.  \n",
    "\n",
    "Once you have updated your fork of the repository you should see the following template project that is resident in the final_project directory.\n",
    "</p>\n",
    "\n",
    "<img src=\"https://data-science-at-scale.s3.amazonaws.com/images/notebooks.drawio.png\">\n",
    "\n",
    "<p>\n",
    "You can then pull your project into the Databrick Workspace using the <a href=\"https://github.com/apps/databricks\">Databricks App on Github</a> or by cloning the repo to your laptop and then uploading the final_project directory and its contents to your workspace using file imports.  Your choice.\n",
    "\n",
    "<p>\n",
    "Work your way through this notebook which will give you the steps required to submit a complete and compliant project.  The following illustration and associated data dictionary specifies the transformations and data that you are to generate for each step in the medallion pipeline.\n",
    "</p>\n",
    "<br><br>\n",
    "<img src=\"https://data-science-at-scale.s3.amazonaws.com/images/dataframes.drawio.png\">\n",
    "\n",
    "#### Bronze Data - raw ingest\n",
    "- date - string in the source json\n",
    "- user - string in the source json\n",
    "- text - tweet string in the source json\n",
    "- sentiment - the given sentiment of the text as determined by an unknown model that is provided in the source json\n",
    "- source_file - the path of the source json file the this row of data was read from\n",
    "- processing_time - a timestamp of when you read this row from the source json\n",
    "\n",
    "#### Silver Data - Bronze Preprocessing\n",
    "- timestamp - convert date string in the bronze data to a timestamp\n",
    "- mention - every @username mentioned in the text string in the bronze data gets a row in this silver data table.\n",
    "- cleaned_text - the bronze text data with the mentions (@username) removed.\n",
    "- sentiment - the given sentiment that was associated with the text in the bronze table.\n",
    "\n",
    "#### Gold Data - Silver Table Inference\n",
    "- timestamp - the timestamp from the silver data table rows\n",
    "- mention - the mention from the silver data table rows\n",
    "- cleaned_text - the cleaned_text from the silver data table rows\n",
    "- sentiment - the given sentiment from the silver data table rows\n",
    "- predicted_score - score out of 100 from the Hugging Face Sentiment Transformer\n",
    "- predicted_sentiment - string representation of the sentiment\n",
    "- sentiment_id - 0 for negative and 1 for postive associated with the given sentiment\n",
    "- predicted_sentiment_id - 0 for negative and 1 for positive assocaited with the Hugging Face Sentiment Transformer\n",
    "\n",
    "#### Application Data - Gold Table Aggregation\n",
    "- min_timestamp - the oldest timestamp on a given mention (@username)\n",
    "- max_timestamp - the newest timestamp on a given mention (@username)\n",
    "- mention - the user (@username) that this row pertains to.\n",
    "- negative - total negative tweets directed at this mention (@username)\n",
    "- neutral - total neutral tweets directed at this mention (@username)\n",
    "- positive - total positive tweets directed at this mention (@username)\n",
    "\n",
    "When you are designing your approach, one of the main decisions that you will need to make is how you are going to orchestrate the streaming data processing in your pipeline.  There are several valid approaches to triggering your steams and how you will gate the execution of your pipeline.  Think through how you want to proceed and ask questions if you need guidance. The following references may be helpful:\n",
    "- [Spark Structured Streaming Programming Guide](https://spark.apache.org/docs/latest/structured-streaming-programming-guide.html)\n",
    "- [Databricks Autoloader - Cloudfiles](https://docs.databricks.com/en/ingestion/auto-loader/index.html)\n",
    "- [In class examples - Spark Structured Streaming Performance](https://dbc-f85bdc5b-07db.cloud.databricks.com/editor/notebooks/2638424645880316?o=1093580174577663)\n",
    "\n",
    "### Be sure your project runs end to end when *Run all* is executued on this notebook! (7 points)\n",
    "\n",
    "### This project is worth 25% of your final grade.\n",
    "- DSCC-202 Students have 55 possible points on this project (see points above and the instructions below)\n",
    "- DSCC-402 Students have 60 possible points on this project (one extra section to complete)"
   ]
  },
  {
   "cell_type": "code",
   "execution_count": 0,
   "metadata": {
    "application/vnd.databricks.v1+cell": {
     "cellMetadata": {
      "byteLimit": 2048000,
      "rowLimit": 10000
     },
     "collapsed": true,
     "inputWidgets": {},
     "nuid": "068f25d0-1387-4342-89cf-ce82a8d614ce",
     "showTitle": true,
     "tableResultSettingsMap": {},
     "title": "Pull in the Includes & Utiltites"
    }
   },
   "outputs": [],
   "source": [
    "%run ./includes/includes"
   ]
  },
  {
   "cell_type": "code",
   "execution_count": 0,
   "metadata": {
    "application/vnd.databricks.v1+cell": {
     "cellMetadata": {
      "byteLimit": 2048000,
      "rowLimit": 10000
     },
     "inputWidgets": {},
     "nuid": "6512bf1b-50e0-4a4b-84a9-e280a6260b56",
     "showTitle": true,
     "tableResultSettingsMap": {},
     "title": "Notebook Control Widgets (maybe helpful)"
    }
   },
   "outputs": [],
   "source": [
    "\"\"\"\n",
    "Adding a widget to the notebook to control the clearing of a previous run.\n",
    "or stopping the active streams using routines defined in the utilities notebook\n",
    "\"\"\"\n",
    "dbutils.widgets.removeAll()\n",
    "\n",
    "dbutils.widgets.dropdown(\"clear_previous_run\", \"No\", [\"No\",\"Yes\"])\n",
    "if (getArgument(\"clear_previous_run\") == \"Yes\"):\n",
    "    clear_previous_run()\n",
    "    print(\"Cleared all previous data.\")\n",
    "\n",
    "dbutils.widgets.dropdown(\"stop_streams\", \"No\", [\"No\",\"Yes\"])\n",
    "if (getArgument(\"stop_streams\") == \"Yes\"):\n",
    "    stop_all_streams()\n",
    "    print(\"Stopped all active streams.\")\n",
    "\n",
    "dbutils.widgets.dropdown(\"optimize_tables\", \"No\", [\"No\",\"Yes\"])\n",
    "if (getArgument(\"optimize_tables\") == \"Yes\"):\n",
    "    # Suck up those small files that we have been appending.\n",
    "    # Optimize the tables\n",
    "    optimize_table(BRONZE_DELTA)\n",
    "    optimize_table(SILVER_DELTA)\n",
    "    optimize_table(GOLD_DELTA)\n",
    "    print(\"Optimized all of the Delta Tables\")"
   ]
  },
  {
   "cell_type": "markdown",
   "metadata": {
    "application/vnd.databricks.v1+cell": {
     "cellMetadata": {
      "byteLimit": 2048000,
      "rowLimit": 10000
     },
     "inputWidgets": {},
     "nuid": "e8ce7c13-7f8f-4e11-b50c-fdaebbcf3f99",
     "showTitle": false,
     "tableResultSettingsMap": {},
     "title": ""
    }
   },
   "source": [
    "## 1.0 Import your libraries here (2 points)\n",
    "- Are your shuffle partitions consistent with your cluster and your workload?\n",
    "- Do you have the necessary libraries to perform the required operations in the pipeline/application?"
   ]
  },
  {
   "cell_type": "code",
   "execution_count": 0,
   "metadata": {
    "application/vnd.databricks.v1+cell": {
     "cellMetadata": {
      "byteLimit": 2048000,
      "rowLimit": 10000
     },
     "inputWidgets": {},
     "nuid": "67bafbb7-d34e-4e86-b159-b2e062faa1d0",
     "showTitle": false,
     "tableResultSettingsMap": {},
     "title": ""
    }
   },
   "outputs": [],
   "source": [
    "# ENTER YOUR CODE HERE\n",
    "from pyspark.sql.types import *\n",
    "from pyspark.sql.functions import *\n",
    "import pandas as pd\n",
    "import numpy as np\n",
    "import seaborn as sns\n",
    "from mlflow.tracking.client import MlflowClient\n",
    "import mlflow\n",
    "import mlflow.pyfunc\n",
    "from sklearn.metrics import recall_score, precision_score, f1_score, confusion_matrix\n",
    "from pyspark.sql import functions as F\n",
    "from transformers import pipeline\n",
    "\n",
    "import time\n",
    "from datetime import datetime\n",
    "import matplotlib.pyplot as plt"
   ]
  },
  {
   "cell_type": "code",
   "execution_count": 0,
   "metadata": {
    "application/vnd.databricks.v1+cell": {
     "cellMetadata": {
      "byteLimit": 2048000,
      "rowLimit": 10000
     },
     "inputWidgets": {},
     "nuid": "b8067f53-9527-48b0-aa00-258fd227afc9",
     "showTitle": false,
     "tableResultSettingsMap": {},
     "title": ""
    }
   },
   "outputs": [],
   "source": [
    "# Are your shuffle partitions consistent with your cluster and your workload?\n",
    "spark.conf.set(\"spark.sql.adaptive.enabled\", \"true\")\n",
    "print(spark.conf.get(\"spark.sql.shuffle.partitions\"))\n",
    "print(sc.defaultParallelism)"
   ]
  },
  {
   "cell_type": "code",
   "execution_count": 0,
   "metadata": {
    "application/vnd.databricks.v1+cell": {
     "cellMetadata": {
      "byteLimit": 2048000,
      "rowLimit": 10000
     },
     "inputWidgets": {},
     "nuid": "9f1ad2ca-3ee2-4547-87d3-fef74f65f81c",
     "showTitle": false,
     "tableResultSettingsMap": {},
     "title": ""
    }
   },
   "outputs": [],
   "source": [
    "# because default shuffle partition is 200 and we have 4 clusters, \n",
    "# we reduce num of shuffle partitions to 8\n",
    "spark.conf.set(\"spark.sql.shuffle.partitions\", 4*sc.defaultParallelism)"
   ]
  },
  {
   "cell_type": "markdown",
   "metadata": {
    "application/vnd.databricks.v1+cell": {
     "cellMetadata": {
      "byteLimit": 2048000,
      "rowLimit": 10000
     },
     "inputWidgets": {},
     "nuid": "2b7624b4-0aa5-46b7-9767-52f462b2c574",
     "showTitle": false,
     "tableResultSettingsMap": {},
     "title": ""
    }
   },
   "source": [
    "## 2.0 Define and execute utility functions (3 points)\n",
    "- Read the source file directory listing\n",
    "- Count the source files (how many are there?)\n",
    "- print the contents of one of the files"
   ]
  },
  {
   "cell_type": "code",
   "execution_count": 0,
   "metadata": {
    "application/vnd.databricks.v1+cell": {
     "cellMetadata": {
      "byteLimit": 2048000,
      "rowLimit": 10000
     },
     "inputWidgets": {},
     "nuid": "b70573a2-e538-4eb7-a26c-9b4cf9ca7daa",
     "showTitle": false,
     "tableResultSettingsMap": {},
     "title": ""
    }
   },
   "outputs": [],
   "source": [
    "TWEET_SOURCE_PATH\t"
   ]
  },
  {
   "cell_type": "code",
   "execution_count": 0,
   "metadata": {
    "application/vnd.databricks.v1+cell": {
     "cellMetadata": {
      "byteLimit": 2048000,
      "rowLimit": 10000
     },
     "inputWidgets": {},
     "nuid": "f92d9846-5546-4868-a2ee-8f053bfcb735",
     "showTitle": false,
     "tableResultSettingsMap": {},
     "title": ""
    }
   },
   "outputs": [],
   "source": [
    "source_files = dbutils.fs.ls(TWEET_SOURCE_PATH)\n",
    "file_count = len(source_files)\n",
    "\n",
    "print(f\"Number of source files: {file_count}\")"
   ]
  },
  {
   "cell_type": "code",
   "execution_count": 0,
   "metadata": {
    "application/vnd.databricks.v1+cell": {
     "cellMetadata": {
      "byteLimit": 2048000,
      "rowLimit": 10000
     },
     "inputWidgets": {},
     "nuid": "a59749d5-e45d-460f-9be1-33652cda2ea5",
     "showTitle": false,
     "tableResultSettingsMap": {},
     "title": ""
    }
   },
   "outputs": [],
   "source": [
    "# ENTER YOUR CODE HERE\n",
    "# Read the source file directory listing\n",
    "source_files = dbutils.fs.ls(TWEET_SOURCE_PATH)\n",
    "\n",
    "# Count the source files\n",
    "file_count = len(source_files)\n",
    "\n",
    "# # Print the contents of one of the files\n",
    "# sample_file_path = source_files[0].path\n",
    "# sample_file_content = dbutils.fs.head(sample_file_path)\n",
    "\n",
    "# # Display the results\n",
    "print(f\"Number of source files: {file_count}\")\n",
    "# print(f\"Contents of one file ({sample_file_path}):\\n{sample_file_content}\")"
   ]
  },
  {
   "cell_type": "markdown",
   "metadata": {
    "application/vnd.databricks.v1+cell": {
     "cellMetadata": {
      "byteLimit": 2048000,
      "rowLimit": 10000
     },
     "inputWidgets": {},
     "nuid": "1676aed7-527f-4ea7-9d3b-52544e8c1e37",
     "showTitle": false,
     "tableResultSettingsMap": {},
     "title": ""
    }
   },
   "source": [
    "## 3.0 Transform the Raw Data to Bronze Data using a stream  (8 points)\n",
    "- define the schema for the raw data\n",
    "- setup a read stream using cloudfiles and the source data format\n",
    "- setup a write stream using delta lake to append to the bronze delta table\n",
    "- enforce schema\n",
    "- allow a new schema to be merged into the bronze delta table\n",
    "- Use the defined BRONZE_CHECKPOINT and BRONZE_DELTA paths defined in the includes\n",
    "- name your raw to bronze stream as bronze_stream\n",
    "- transform the raw data to the bronze data using the data definition at the top of the notebook"
   ]
  },
  {
   "cell_type": "code",
   "execution_count": 0,
   "metadata": {
    "application/vnd.databricks.v1+cell": {
     "cellMetadata": {
      "byteLimit": 2048000,
      "rowLimit": 10000
     },
     "inputWidgets": {},
     "nuid": "c4e37574-9885-4908-bf97-609d140a8818",
     "showTitle": false,
     "tableResultSettingsMap": {},
     "title": ""
    }
   },
   "outputs": [],
   "source": [
    "# ENTER YOUR CODE HERE\n",
    "raw_schema = (StructType(\n",
    "                [StructField(\"date\", StringType(),nullable=True),\n",
    "                StructField(\"user\", StringType(), nullable=True),\n",
    "                StructField(\"text\", StringType(), nullable=True),\n",
    "                StructField(\"sentiment\", StringType(),nullable=True)])\n",
    "              )\n",
    "\n",
    "def start_bronze_stream():\n",
    "# Read Files with schema and source tracking\n",
    "# Write Stream\n",
    "    bronze_stream = (\n",
    "        spark.readStream\n",
    "                .format(\"cloudFiles\")\n",
    "                .option(\"cloudFiles.format\", \"json\")\n",
    "                .option(\"path\", TWEET_SOURCE_PATH)\n",
    "                .option(\"mergeSchema\", True)\n",
    "                .schema(raw_schema) # enforce schema with reading\n",
    "                .load()\n",
    "                .withColumn(\"source_file\", input_file_name())\n",
    "                .withColumn(\"processing_time\", current_timestamp())  # Add ingestion timestamp\n",
    "            .writeStream\n",
    "                .format(\"delta\")\n",
    "                .outputMode(\"append\")                                # Only add new data\n",
    "                .trigger(processingTime=\"10 seconds\")                # Process what's available now\n",
    "                .option(\"checkpointLocation\", BRONZE_CHECKPOINT)     # Enable recovery\n",
    "                .queryName(\"bronze_stream\")                           # Name the query for monitoring\n",
    "                .start(BRONZE_DELTA)                                 # Output path for Delta table\n",
    "    )\n",
    "\n",
    "    return bronze_stream"
   ]
  },
  {
   "cell_type": "code",
   "execution_count": 0,
   "metadata": {
    "application/vnd.databricks.v1+cell": {
     "cellMetadata": {
      "byteLimit": 2048000,
      "rowLimit": 10000
     },
     "inputWidgets": {},
     "nuid": "931717c8-c724-471e-bb7e-5e7dbbeeb201",
     "showTitle": false,
     "tableResultSettingsMap": {},
     "title": ""
    }
   },
   "outputs": [],
   "source": [
    "# --- Start Bronze Stream ---\n",
    "spark.sparkContext.setLocalProperty(\"spark.scheduler.pool\", \"bronze_pool\")\n",
    "bronze_query = start_bronze_stream()"
   ]
  },
  {
   "cell_type": "code",
   "execution_count": 0,
   "metadata": {
    "application/vnd.databricks.v1+cell": {
     "cellMetadata": {
      "byteLimit": 2048000,
      "rowLimit": 10000
     },
     "inputWidgets": {},
     "nuid": "ee1ac68b-2c86-42cc-a870-273c4f5d1bba",
     "showTitle": false,
     "tableResultSettingsMap": {},
     "title": ""
    }
   },
   "outputs": [],
   "source": [
    "if wait_for_delta_table(BRONZE_DELTA, 10000):\n",
    "    print(\"Bronze table is ready.\")\n",
    "else:\n",
    "    print(\"Bronze table didnt set up\")"
   ]
  },
  {
   "cell_type": "code",
   "execution_count": 0,
   "metadata": {
    "application/vnd.databricks.v1+cell": {
     "cellMetadata": {
      "byteLimit": 2048000,
      "rowLimit": 10000
     },
     "inputWidgets": {},
     "nuid": "3138d7e3-7be1-4773-a6b1-054634c4bec9",
     "showTitle": false,
     "tableResultSettingsMap": {},
     "title": ""
    }
   },
   "outputs": [],
   "source": [
    "# query.awaitTermination(30000)"
   ]
  },
  {
   "cell_type": "code",
   "execution_count": 0,
   "metadata": {
    "application/vnd.databricks.v1+cell": {
     "cellMetadata": {
      "byteLimit": 2048000,
      "rowLimit": 10000
     },
     "inputWidgets": {},
     "nuid": "b9239d7c-ec8b-4684-969f-ab8b8dfd2b94",
     "showTitle": false,
     "tableResultSettingsMap": {},
     "title": ""
    }
   },
   "outputs": [],
   "source": [
    "# # Load the Delta table\n",
    "# delta_table = DeltaTable.forPath(spark, BRONZE_DELTA)\n",
    "\n",
    "# # Delete all rows from the table\n",
    "# delta_table.delete(condition=\"true\")"
   ]
  },
  {
   "cell_type": "code",
   "execution_count": 0,
   "metadata": {
    "application/vnd.databricks.v1+cell": {
     "cellMetadata": {
      "byteLimit": 2048000,
      "rowLimit": 10000
     },
     "inputWidgets": {},
     "nuid": "3fce4efe-1e9e-4222-b32e-997945f26c5e",
     "showTitle": false,
     "tableResultSettingsMap": {},
     "title": ""
    }
   },
   "outputs": [],
   "source": [
    "# bronze_table = spark.read.format(\"delta\").load(BRONZE_DELTA)\n",
    "# bronze_table.printSchema()"
   ]
  },
  {
   "cell_type": "markdown",
   "metadata": {
    "application/vnd.databricks.v1+cell": {
     "cellMetadata": {
      "byteLimit": 2048000,
      "rowLimit": 10000
     },
     "inputWidgets": {},
     "nuid": "f94a594e-1a85-458f-9fe8-959e06d2e5f0",
     "showTitle": false,
     "tableResultSettingsMap": {},
     "title": ""
    }
   },
   "source": [
    "## 4.0 Transform the Bronze Data to Silver Data using a stream (5 points)\n",
    "- setup a read stream on your bronze delta table\n",
    "- setup a write stream to append to the silver delta table\n",
    "- Use the defined SILVER_CHECKPOINT and SILVER_DELTA paths in the includes\n",
    "- name your bronze to silver stream as silver_stream\n",
    "- transform the bronze data to the silver data using the data definition at the top of the notebook"
   ]
  },
  {
   "cell_type": "code",
   "execution_count": 0,
   "metadata": {
    "application/vnd.databricks.v1+cell": {
     "cellMetadata": {
      "byteLimit": 2048000,
      "rowLimit": 10000
     },
     "inputWidgets": {},
     "nuid": "d199e303-3644-4d32-a82f-9ee861f1b7c8",
     "showTitle": false,
     "tableResultSettingsMap": {},
     "title": ""
    }
   },
   "outputs": [],
   "source": [
    "silver_table = spark.read.format(\"delta\").load(SILVER_DELTA)\n",
    "silver_table.printSchema()"
   ]
  },
  {
   "cell_type": "code",
   "execution_count": 0,
   "metadata": {
    "application/vnd.databricks.v1+cell": {
     "cellMetadata": {
      "byteLimit": 2048000,
      "rowLimit": 10000
     },
     "inputWidgets": {},
     "nuid": "091ec59c-d968-4acf-b56f-cc9178cd0693",
     "showTitle": false,
     "tableResultSettingsMap": {},
     "title": ""
    }
   },
   "outputs": [],
   "source": [
    "# silver_schema = StructType([\n",
    "#     StructField(\"timestamp\", TimestampType(), True),\n",
    "#     StructField(\"mention\", StringType(), True),\n",
    "#     StructField(\"cleaned_text\", StringType(), True),\n",
    "#     StructField(\"sentiment\", StringType(), True)\n",
    "# ])\n",
    "\n",
    "# Read stream from bronze delta table\n",
    "def start_silver_stream():\n",
    "    silver_stream = (\n",
    "        spark.readStream\n",
    "                .format(\"delta\")\n",
    "                .load(BRONZE_DELTA)\n",
    "                # Here, transform data as necessary\n",
    "                .withColumn(\"mention\", regexp_extract(col(\"text\"), r\"(@\\w+)\", 0))\n",
    "                .withColumn(\"cleaned_text\", regexp_replace(col(\"text\"), r'@\\w+', \"\" ))\n",
    "                .withColumn(\"date_str\", expr(\"substring(date, 5, length(date))\"))\n",
    "                .withColumn(\"timestamp\", to_timestamp(col(\"date_str\"),\"MMM dd HH:mm:ss z yyyy\"))\n",
    "                # .drop(\"date\", \"user\", \"text\", \"source_file\", \"processing_time\", \"date_str\")\n",
    "                .select(\"timestamp\", \"mention\", \"cleaned_text\", \"sentiment\")\n",
    "            # Write stream query\n",
    "            .writeStream\n",
    "                .format(\"delta\")\n",
    "                .outputMode(\"append\")\n",
    "                .trigger(processingTime=\"1 minute\")\n",
    "                .queryName(\"silver_stream\") \n",
    "                .option(\"checkpointLocation\", SILVER_CHECKPOINT)\n",
    "                .start(SILVER_DELTA)\n",
    "    )\n",
    "\n",
    "    return silver_stream"
   ]
  },
  {
   "cell_type": "code",
   "execution_count": 0,
   "metadata": {
    "application/vnd.databricks.v1+cell": {
     "cellMetadata": {
      "byteLimit": 2048000,
      "rowLimit": 10000
     },
     "inputWidgets": {},
     "nuid": "278092bd-6279-4b24-9750-5994faa52cbf",
     "showTitle": false,
     "tableResultSettingsMap": {},
     "title": ""
    }
   },
   "outputs": [],
   "source": [
    "# --- Start Silver Stream ---\n",
    "spark.sparkContext.setLocalProperty(\"spark.scheduler.pool\", \"silver_pool\")\n",
    "silver_query = start_silver_stream()"
   ]
  },
  {
   "cell_type": "code",
   "execution_count": 0,
   "metadata": {
    "application/vnd.databricks.v1+cell": {
     "cellMetadata": {
      "byteLimit": 2048000,
      "rowLimit": 10000
     },
     "inputWidgets": {},
     "nuid": "7a572145-10e8-4f11-bb60-e2b8f5294a9d",
     "showTitle": false,
     "tableResultSettingsMap": {},
     "title": ""
    }
   },
   "outputs": [],
   "source": [
    "if wait_for_delta_table(SILVER_DELTA, 10000):\n",
    "    print(\"Silver table is ready.\")\n",
    "else:\n",
    "    print(\"Silver table didnt set up\")"
   ]
  },
  {
   "cell_type": "code",
   "execution_count": 0,
   "metadata": {
    "application/vnd.databricks.v1+cell": {
     "cellMetadata": {
      "byteLimit": 2048000,
      "rowLimit": 10000
     },
     "inputWidgets": {},
     "nuid": "1c50b94a-3836-41d3-8a3a-ac2e174b869f",
     "showTitle": false,
     "tableResultSettingsMap": {},
     "title": ""
    }
   },
   "outputs": [],
   "source": [
    "# silver_stream.awaitTermination(30000)"
   ]
  },
  {
   "cell_type": "markdown",
   "metadata": {
    "application/vnd.databricks.v1+cell": {
     "cellMetadata": {
      "byteLimit": 2048000,
      "rowLimit": 10000
     },
     "inputWidgets": {},
     "nuid": "9ee38aba-e340-4766-8339-71ef2ecfde3a",
     "showTitle": false,
     "tableResultSettingsMap": {},
     "title": ""
    }
   },
   "source": [
    "## 5.0 Transform the Silver Data to Gold Data using a stream (7 points)\n",
    "- setup a read stream on your silver delta table\n",
    "- setup a write stream to append to the gold delta table\n",
    "- Use the defined GOLD_CHECKPOINT and GOLD_DELTA paths defines in the includes\n",
    "- name your silver to gold stream as gold_stream\n",
    "- transform the silver data to the gold data using the data definition at the top of the notebook\n",
    "- Load the pretrained transformer sentiment classifier from the MODEL_NAME at the production level from the MLflow registry\n",
    "- Use a spark UDF to parallelize the inference across your silver data"
   ]
  },
  {
   "cell_type": "code",
   "execution_count": 0,
   "metadata": {
    "application/vnd.databricks.v1+cell": {
     "cellMetadata": {
      "byteLimit": 2048000,
      "rowLimit": 10000
     },
     "inputWidgets": {},
     "nuid": "dd504346-92f2-4b8c-a258-fad5fc4321fe",
     "showTitle": false,
     "tableResultSettingsMap": {},
     "title": ""
    }
   },
   "outputs": [],
   "source": [
    "# MODEL_NAME"
   ]
  },
  {
   "cell_type": "code",
   "execution_count": 0,
   "metadata": {
    "application/vnd.databricks.v1+cell": {
     "cellMetadata": {
      "byteLimit": 2048000,
      "rowLimit": 10000
     },
     "inputWidgets": {},
     "nuid": "17577f5c-ca12-4f57-b858-6ff685f8e036",
     "showTitle": false,
     "tableResultSettingsMap": {},
     "title": ""
    }
   },
   "outputs": [],
   "source": [
    "# # MODEL\n",
    "# model = mlflow.pyfunc.load_model(f\"models:/{MODEL_NAME}/production\")\n",
    "# model"
   ]
  },
  {
   "cell_type": "code",
   "execution_count": 0,
   "metadata": {
    "application/vnd.databricks.v1+cell": {
     "cellMetadata": {
      "byteLimit": 2048000,
      "rowLimit": 10000
     },
     "inputWidgets": {},
     "nuid": "fb4fdb85-4e70-4d3e-ad66-be2256b1ef8f",
     "showTitle": false,
     "tableResultSettingsMap": {},
     "title": ""
    }
   },
   "outputs": [],
   "source": [
    "# HF_model = pipeline(model=HF_MODEL_NAME)\n",
    "# HF_model"
   ]
  },
  {
   "cell_type": "code",
   "execution_count": 0,
   "metadata": {
    "application/vnd.databricks.v1+cell": {
     "cellMetadata": {
      "byteLimit": 2048000,
      "rowLimit": 10000
     },
     "inputWidgets": {},
     "nuid": "9f5687a6-db43-487e-b744-5d9a9b47fa5e",
     "showTitle": false,
     "tableResultSettingsMap": {},
     "title": ""
    }
   },
   "outputs": [],
   "source": [
    "# def classify_sentiment(text):\n",
    "#     try:\n",
    "#         # Predict sentiment using the model (assuming it returns a dictionary with 'label' and 'score')\n",
    "#         result = HF_model(text)\n",
    "#         sentiment = result[0]['label']\n",
    "#         score = result[0]['score']\n",
    "#         return sentiment, score\n",
    "#     except Exception as e:\n",
    "#         return None, None "
   ]
  },
  {
   "cell_type": "code",
   "execution_count": 0,
   "metadata": {
    "application/vnd.databricks.v1+cell": {
     "cellMetadata": {
      "byteLimit": 2048000,
      "rowLimit": 10000
     },
     "inputWidgets": {},
     "nuid": "7af0f30d-1db4-4642-af44-24fb6528688a",
     "showTitle": false,
     "tableResultSettingsMap": {},
     "title": ""
    }
   },
   "outputs": [],
   "source": [
    "# classify_sentiment_udf = \\\n",
    "# udf(classify_sentiment, returnType=\n",
    "#             StructType([StructField(\"predicted_sentiment\", StringType(), True),\n",
    "#                         StructField(\"predicted_score\", FloatType(), True)]))"
   ]
  },
  {
   "cell_type": "code",
   "execution_count": 0,
   "metadata": {
    "application/vnd.databricks.v1+cell": {
     "cellMetadata": {
      "byteLimit": 2048000,
      "rowLimit": 10000
     },
     "inputWidgets": {},
     "nuid": "5ca996ba-16ef-4593-9332-6771812ee9a0",
     "showTitle": false,
     "tableResultSettingsMap": {},
     "title": ""
    }
   },
   "outputs": [],
   "source": [
    "model_uri = f\"models:/{MODEL_NAME}/Production\"\n",
    "classify_sentiment_udf = mlflow.pyfunc.spark_udf(spark, model_uri)"
   ]
  },
  {
   "cell_type": "code",
   "execution_count": 0,
   "metadata": {
    "application/vnd.databricks.v1+cell": {
     "cellMetadata": {
      "byteLimit": 2048000,
      "rowLimit": 10000
     },
     "inputWidgets": {},
     "nuid": "5459d464-0c9b-4fa5-af56-b99a4536c68c",
     "showTitle": false,
     "tableResultSettingsMap": {},
     "title": ""
    }
   },
   "outputs": [],
   "source": [
    "spark.read.format(\"delta\").load(GOLD_DELTA).printSchema()"
   ]
  },
  {
   "cell_type": "code",
   "execution_count": 0,
   "metadata": {
    "application/vnd.databricks.v1+cell": {
     "cellMetadata": {
      "byteLimit": 2048000,
      "rowLimit": 10000
     },
     "inputWidgets": {},
     "nuid": "b51806a2-bb49-43c2-bccb-0d1403a888fb",
     "showTitle": false,
     "tableResultSettingsMap": {},
     "title": ""
    }
   },
   "outputs": [],
   "source": [
    "# spark.read.format(\"delta\").load(SILVER_DELTA).printSchema()"
   ]
  },
  {
   "cell_type": "code",
   "execution_count": 0,
   "metadata": {
    "application/vnd.databricks.v1+cell": {
     "cellMetadata": {
      "byteLimit": 2048000,
      "rowLimit": 10000
     },
     "inputWidgets": {},
     "nuid": "c2097b99-c1f7-4d6a-aafe-9938923f56d1",
     "showTitle": false,
     "tableResultSettingsMap": {},
     "title": ""
    }
   },
   "outputs": [],
   "source": [
    "# display(spark.read.format(\"delta\").load(SILVER_DELTA).limit(1))"
   ]
  },
  {
   "cell_type": "code",
   "execution_count": 0,
   "metadata": {
    "application/vnd.databricks.v1+cell": {
     "cellMetadata": {
      "byteLimit": 2048000,
      "rowLimit": 10000
     },
     "inputWidgets": {},
     "nuid": "1bd40aaf-73f8-4af2-b8e7-35cb37aa235a",
     "showTitle": false,
     "tableResultSettingsMap": {},
     "title": ""
    }
   },
   "outputs": [],
   "source": [
    "# # ENTER YOUR CODE HERE\n",
    "# # Write the transformed data to the Gold Delta table\n",
    "# # # def start_gold_stream():\n",
    "# spark.sparkContext.setLocalProperty(\"spark.scheduler.pool\", \"gold_pool\")\n",
    "# gold_stream = (\n",
    "#         spark.readStream.format(\"delta\")\n",
    "#         .option(\"maxOffsetsPerTrigger\", 550)\n",
    "#         .load(SILVER_DELTA)\n",
    "#                 .withColumn(\"predicted_sentiment_and_score\", classify_sentiment_udf(col(\"cleaned_text\")))\n",
    "#                 .withColumn(\"predicted_sentiment\", col(\"predicted_sentiment_and_score.label\"))\n",
    "#                 .withColumn(\"predicted_score\", col(\"predicted_sentiment_and_score.score\").cast(\"float\"))\n",
    "#                 .withColumn(\"sentiment_id\", when(col(\"sentiment\") == \"positive\", 1).otherwise(0))\n",
    "#                 .withColumn(\"predicted_sentiment_id\", when(col(\"predicted_sentiment\") == \"positive\", 1).otherwise(0))\n",
    "#         .select(\"timestamp\", \"mention\", \"cleaned_text\", \"sentiment\", \"predicted_score\", \n",
    "#                         \"predicted_sentiment\", \"sentiment_id\", \"predicted_sentiment_id\")\n",
    "#         .writeStream\n",
    "#                 .format(\"delta\")\n",
    "#                 .outputMode(\"append\")\n",
    "#                 .option(\"mergeSchema\", \"true\")\n",
    "#                 .trigger(processingTime=\"20 seconds\")\n",
    "#                 .option(\"checkpointLocation\", GOLD_CHECKPOINT)\n",
    "#                 .option(\"path\", GOLD_DELTA)\n",
    "#                 .queryName(\"gold_stream\") \n",
    "#                 .start()\n",
    "# )\n",
    "\n",
    "# # return gold_stream\n",
    "# wait_for_delta_table(GOLD_DELTA)"
   ]
  },
  {
   "cell_type": "code",
   "execution_count": 0,
   "metadata": {
    "application/vnd.databricks.v1+cell": {
     "cellMetadata": {
      "byteLimit": 2048000,
      "rowLimit": 10000
     },
     "inputWidgets": {},
     "nuid": "645dcbfb-ba55-4845-b083-b67ad18916a1",
     "showTitle": false,
     "tableResultSettingsMap": {},
     "title": ""
    }
   },
   "outputs": [],
   "source": [
    "# Load model as a Spark UDF\n",
    "sentiment_model_udf = mlflow.pyfunc.spark_udf(\n",
    "    spark,\n",
    "    model_uri = f\"models:/{MODEL_NAME}/production\"\n",
    "    )"
   ]
  },
  {
   "cell_type": "code",
   "execution_count": 0,
   "metadata": {
    "application/vnd.databricks.v1+cell": {
     "cellMetadata": {
      "byteLimit": 2048000,
      "rowLimit": 10000
     },
     "inputWidgets": {},
     "nuid": "7b5a4d78-fc75-436a-bf09-c0068840bba3",
     "showTitle": false,
     "tableResultSettingsMap": {},
     "title": ""
    }
   },
   "outputs": [],
   "source": [
    "\n",
    "# ENTER YOUR CODE HERE\n",
    "# Set up a read stream on silver delta table\n",
    "silver_read_stream_df = (spark.readStream\n",
    "                         .format(\"delta\")\n",
    "                         .load(SILVER_DELTA))\n",
    "\n",
    "gold_df = (silver_read_stream_df.withColumn(\"prediction\", sentiment_model_udf(col(\"cleaned_text\")))\n",
    "           .withColumn(\"predicted_score\", col(\"prediction.score\").cast(\"double\"))\n",
    "           .withColumn(\"predicted_sentiment\", col(\"prediction.label\"))\n",
    "           .withColumn(\"sentiment_id\", \n",
    "                       when(col(\"sentiment\") == \"positive\", 1)\n",
    "                       .otherwise(0))\n",
    "           .withColumn(\"predicted_sentiment_id\", \n",
    "                       when(col(\"predicted_sentiment\") == \"POS\", 1)\n",
    "                       .when(col(\"predicted_sentiment\") == \"NEG\", 0)\n",
    "                       .otherwise(-1))\n",
    "           .select(\"timestamp\", \"mention\", \"cleaned_text\", \"sentiment\", \"prediction\", \"predicted_sentiment\", \"sentiment_id\", \"predicted_sentiment_id\")\n",
    "           )  \n",
    "\n",
    "\n",
    "spark.sparkContext.setLocalProperty(\"spark.scheduler.pool\", \"gold_pool\")\n",
    "\n",
    "# Set up a write stream to append to the gold delta table\n",
    "gold_stream = (gold_df.writeStream\n",
    "               .format(\"delta\")\n",
    "               .option(\"mergeSchema\", \"true\")\n",
    "               .outputMode(\"append\")\n",
    "               .option(\"checkpointLocation\", GOLD_CHECKPOINT)\n",
    "               .trigger(processingTime=\"30 seconds\")\n",
    "               .queryName(\"gold_stream\")\n",
    "               .start(GOLD_DELTA)\n",
    ")\n",
    "\n",
    "wait_for_delta_table(GOLD_DELTA)"
   ]
  },
  {
   "cell_type": "code",
   "execution_count": 0,
   "metadata": {
    "application/vnd.databricks.v1+cell": {
     "cellMetadata": {
      "byteLimit": 2048000,
      "rowLimit": 10000
     },
     "inputWidgets": {},
     "nuid": "ec3337f1-fb64-4670-beae-f10f9eb6c282",
     "showTitle": false,
     "tableResultSettingsMap": {},
     "title": ""
    }
   },
   "outputs": [],
   "source": [
    "# # --- Start Gold Stream ---\n",
    "# spark.sparkContext.setLocalProperty(\"spark.scheduler.pool\", \"gold_pool\")\n",
    "# gold_query = start_gold_stream()"
   ]
  },
  {
   "cell_type": "code",
   "execution_count": 0,
   "metadata": {
    "application/vnd.databricks.v1+cell": {
     "cellMetadata": {
      "byteLimit": 2048000,
      "rowLimit": 10000
     },
     "inputWidgets": {},
     "nuid": "be50d0f1-98ee-4242-924c-5c5de0787770",
     "showTitle": false,
     "tableResultSettingsMap": {},
     "title": ""
    }
   },
   "outputs": [],
   "source": [
    "if wait_for_delta_table(GOLD_DELTA):\n",
    "    print(\"Gold table is ready.\")\n",
    "else:\n",
    "    print(\"Gold table didnt set up\")"
   ]
  },
  {
   "cell_type": "code",
   "execution_count": 0,
   "metadata": {
    "application/vnd.databricks.v1+cell": {
     "cellMetadata": {
      "byteLimit": 2048000,
      "rowLimit": 10000
     },
     "inputWidgets": {},
     "nuid": "b54268f4-dd8d-4832-9bbb-4713f9f360b0",
     "showTitle": false,
     "tableResultSettingsMap": {},
     "title": ""
    }
   },
   "outputs": [],
   "source": [
    "# gold_stream.status"
   ]
  },
  {
   "cell_type": "code",
   "execution_count": 0,
   "metadata": {
    "application/vnd.databricks.v1+cell": {
     "cellMetadata": {
      "byteLimit": 2048000,
      "rowLimit": 10000
     },
     "inputWidgets": {},
     "nuid": "751ac6ec-3043-4d2a-a27d-416583b50d2c",
     "showTitle": false,
     "tableResultSettingsMap": {},
     "title": ""
    }
   },
   "outputs": [],
   "source": [
    "# # Read a small sample (one row) from SILVER_DELTA\n",
    "# sample_df = spark.read.format(\"delta\").load(SILVER_DELTA).limit(1)\n",
    "# sample_df.show()  # Inspect the row\n"
   ]
  },
  {
   "cell_type": "code",
   "execution_count": 0,
   "metadata": {
    "application/vnd.databricks.v1+cell": {
     "cellMetadata": {
      "byteLimit": 2048000,
      "rowLimit": 10000
     },
     "inputWidgets": {},
     "nuid": "b560ca10-ebb2-403c-8792-c43bce6dc146",
     "showTitle": false,
     "tableResultSettingsMap": {},
     "title": ""
    }
   },
   "outputs": [],
   "source": [
    "# # Apply the transformations manually to the sample row\n",
    "# transformed_df = sample_df \\\n",
    "#     .withColumn(\"predicted_sentiment_and_score\", classify_sentiment_udf(F.col(\"cleaned_text\"))) \\\n",
    "#     .withColumn(\"predicted_sentiment\", F.col(\"predicted_sentiment_and_score.predicted_sentiment\")) \\\n",
    "#     .withColumn(\"predicted_score\", F.col(\"predicted_sentiment_and_score.predicted_score\")) \\\n",
    "#     .withColumn(\"sentiment_id\", F.when(F.col(\"sentiment\") == \"positive\", 1).otherwise(0)) \\\n",
    "#     .withColumn(\"predicted_sentiment_id\", F.when(F.col(\"predicted_sentiment\") == \"positive\", 1).otherwise(0)) \\\n",
    "#     .select(\"timestamp\", \"mention\", \"cleaned_text\", \"sentiment\", \"predicted_score\", \n",
    "#             \"predicted_sentiment\", \"sentiment_id\", \"predicted_sentiment_id\")\n",
    "\n",
    "# # Show the result to validate the transformation\n",
    "# transformed_df.show(truncate=False)\n"
   ]
  },
  {
   "cell_type": "code",
   "execution_count": 0,
   "metadata": {
    "application/vnd.databricks.v1+cell": {
     "cellMetadata": {
      "byteLimit": 2048000,
      "rowLimit": 10000
     },
     "inputWidgets": {},
     "nuid": "17a916f4-2aca-477d-80fc-94a8aaa04803",
     "showTitle": false,
     "tableResultSettingsMap": {},
     "title": ""
    }
   },
   "outputs": [],
   "source": [
    "# display(transformed_df)"
   ]
  },
  {
   "cell_type": "markdown",
   "metadata": {
    "application/vnd.databricks.v1+cell": {
     "cellMetadata": {
      "byteLimit": 2048000,
      "rowLimit": 10000
     },
     "inputWidgets": {},
     "nuid": "05cd829f-46d6-4d94-8555-887d29a33daf",
     "showTitle": false,
     "tableResultSettingsMap": {},
     "title": ""
    }
   },
   "source": [
    "## 6.0 Monitor your Streams (5 points)\n",
    "- Setup a loop that runs at least every 10 seconds\n",
    "- Print a timestamp of the monitoring query along with the list of streams, rows processed on each, and the processing time on each\n",
    "- Run the loop until all of the data is processed (0 rows read on each active stream)\n",
    "- Plot a line graph that shows the data processed by each stream over time\n",
    "- Plot a line graph that shows the average processing time on each stream over time"
   ]
  },
  {
   "cell_type": "code",
   "execution_count": 0,
   "metadata": {
    "application/vnd.databricks.v1+cell": {
     "cellMetadata": {
      "byteLimit": 2048000,
      "rowLimit": 10000
     },
     "inputWidgets": {},
     "nuid": "d90e6136-6faf-49ea-8050-f0c8893a6d8f",
     "showTitle": false,
     "tableResultSettingsMap": {},
     "title": ""
    }
   },
   "outputs": [],
   "source": [
    "# # Inspect schema\n",
    "# df = spark.read.format(\"delta\").load(SILVER_DELTA)\n",
    "# df = df.withColumn(\"predicted_sentiment_and_score\", classify_sentiment_udf(F.col(\"cleaned_text\")))\n",
    "# df.printSchema()\n"
   ]
  },
  {
   "cell_type": "code",
   "execution_count": 0,
   "metadata": {
    "application/vnd.databricks.v1+cell": {
     "cellMetadata": {
      "byteLimit": 2048000,
      "rowLimit": 10000
     },
     "inputWidgets": {},
     "nuid": "12a6e18e-9a60-4795-9526-201e86a4683c",
     "showTitle": false,
     "tableResultSettingsMap": {},
     "title": ""
    }
   },
   "outputs": [],
   "source": [
    "# dbutils.fs.rm(BRONZE_CHECKPOINT, recurse=True) \n",
    "# dbutils.fs.rm(SILVER_CHECKPOINT, recurse=True) \n",
    "# dbutils.fs.rm(GOLD_CHECKPOINT, recurse=True) "
   ]
  },
  {
   "cell_type": "code",
   "execution_count": 0,
   "metadata": {
    "application/vnd.databricks.v1+cell": {
     "cellMetadata": {
      "byteLimit": 2048000,
      "rowLimit": 10000
     },
     "inputWidgets": {},
     "nuid": "15138ea3-685a-4b41-b0e4-75ecf958ddbc",
     "showTitle": false,
     "tableResultSettingsMap": {},
     "title": ""
    }
   },
   "outputs": [],
   "source": [
    "# RUN EVERYTHING\n",
    "# # --- Start Bronze Stream ---\n",
    "# spark.sparkContext.setLocalProperty(\"spark.scheduler.pool\", \"bronze_pool\")\n",
    "# bronze_query = start_bronze_stream()\n",
    "\n",
    "# # --- Start Silver Stream ---\n",
    "# spark.sparkContext.setLocalProperty(\"spark.scheduler.pool\", \"silver_pool\")\n",
    "# silver_query = start_silver_stream()\n",
    "\n",
    "# # --- Start Gold Stream ---\n",
    "# spark.sparkContext.setLocalProperty(\"spark.scheduler.pool\", \"gold_pool\")\n",
    "# gold_query = start_gold_stream()\n",
    "\n",
    "# Start monitoring in a separate loop\n",
    "print(f\"Monitoring streams with USE_POOLS = TRUE\")\n",
    "\n",
    "\"\"\"\n",
    "Monitor the streams until all of the data is processed\n",
    "\"\"\"\n",
    "row_count = 1\n",
    "i = 0\n",
    "while row_count != 0:\n",
    "    time.sleep(10)\n",
    "    \n",
    "    # Get streaming stats\n",
    "    stats = get_streaming_stats()\n",
    "    \n",
    "    # Display current status\n",
    "    if not stats.empty:\n",
    "        # Group by query name and get the latest stats\n",
    "        latest_stats = stats.sort_values(\"elapsed_time\").groupby(\"query\").last().reset_index()\n",
    "        print(f\"\\nStatus at {datetime.now().strftime('%H:%M:%S')} (Elapsed: {i*10}s):\")\n",
    "        for _, row in latest_stats.iterrows():\n",
    "            print(f\"  {row['query']}: {row['input_rows']} rows, {row['processing_time']}ms processing time\")\n",
    "        row_count = latest_stats[\"input_rows\"].sum()\n",
    "        i += 1\n",
    "\n",
    "# Stop the streams when all rows are processed\n",
    "if row_count == 0:\n",
    "    print(\"No more data to process. Stopping streams.\")\n",
    "    bronze_query.stop()\n",
    "    silver_query.stop()\n",
    "    gold_query.stop()\n",
    "\n",
    "# Collect final streaming metrics\n",
    "df = get_streaming_stats()\n",
    "\n",
    "# Plot processing time and input rows over elapsed time by query\n",
    "if not df.empty:\n",
    "    # Create a figure with two subplots\n",
    "    fig, (ax1, ax2) = plt.subplots(2, 1, figsize=(12, 10), sharex=True)\n",
    "    \n",
    "    # Plot processing time\n",
    "    for query in df[\"query\"].unique():\n",
    "        subset = df[df[\"query\"] == query]\n",
    "        ax1.plot(subset[\"elapsed_time\"], subset[\"processing_time\"], marker='o', linestyle='-', label=query)\n",
    "    \n",
    "    ax1.set_ylabel(\"Processing Time (ms)\")\n",
    "    ax1.set_title(f\"Spark Streaming Processing Time - USE_POOLS = {USE_POOLS}\")\n",
    "    ax1.legend()\n",
    "    ax1.grid(True)\n",
    "    \n",
    "    # Plot input rows\n",
    "    for query in df[\"query\"].unique():\n",
    "        subset = df[df[\"query\"] == query]\n",
    "        ax2.plot(subset[\"elapsed_time\"], subset[\"input_rows\"], marker='o', linestyle='-', label=query)\n",
    "    \n",
    "    ax2.set_xlabel(\"Elapsed Time (seconds)\")\n",
    "    ax2.set_ylabel(\"Input Rows\")\n",
    "    ax2.set_title(f\"Spark Streaming Input Rows - USE_POOLS = {USE_POOLS}\")\n",
    "    ax2.legend()\n",
    "    ax2.grid(True)\n",
    "    \n",
    "    plt.tight_layout()\n",
    "    plt.show()\n",
    "    \n",
    "    # Generate statistics summary\n",
    "    print(\"\\nStreaming Performance Summary:\")\n",
    "    summary = df.groupby(\"query\").agg({\n",
    "        \"processing_time\": [\"mean\", \"max\", \"min\", \"std\"],\n",
    "        \"input_rows\": [\"sum\", \"mean\", \"max\"]\n",
    "    }).reset_index()\n",
    "    display(summary)"
   ]
  },
  {
   "cell_type": "code",
   "execution_count": 0,
   "metadata": {
    "application/vnd.databricks.v1+cell": {
     "cellMetadata": {
      "byteLimit": 2048000,
      "rowLimit": 10000
     },
     "inputWidgets": {},
     "nuid": "f66d0f31-ba0d-4e50-866f-3085b5844c61",
     "showTitle": false,
     "tableResultSettingsMap": {},
     "title": ""
    }
   },
   "outputs": [],
   "source": [
    "SILVER_DELTA"
   ]
  },
  {
   "cell_type": "code",
   "execution_count": 0,
   "metadata": {
    "application/vnd.databricks.v1+cell": {
     "cellMetadata": {
      "byteLimit": 2048000,
      "rowLimit": 10000
     },
     "inputWidgets": {},
     "nuid": "4d31439d-2b15-4d2b-9961-e27cc0b8ee73",
     "showTitle": false,
     "tableResultSettingsMap": {},
     "title": ""
    }
   },
   "outputs": [],
   "source": [
    "# Select one row from SILVER_DELTA\n",
    "silver_df = spark.read.format(\"delta\").load(SILVER_DELTA).limit(1)\n",
    "\n",
    "# Apply transformation\n",
    "transformed_df = silver_df.withColumn(\"predicted_sentiment_and_score\", classify_sentiment_udf(F.col(\"cleaned_text\"))) \\\n",
    "                        .withColumn(\"predicted_sentiment\", col(\"predicted_sentiment_and_score\").label) \\\n",
    "                        .withColumn(\"predicted_score\", col(\"predicted_sentiment_and_score\").score.cast(\"float\")) \\\n",
    "                        .withColumn(\"sentiment_id\", when(col(\"sentiment\") == \"positive\", 1).otherwise(0)) \\\n",
    "                        .withColumn(\"predicted_sentiment_id\", when(col(\"predicted_sentiment\") == \"positive\", 1).otherwise(0)) \\\n",
    "                        .select(\"timestamp\", \"mention\", \"cleaned_text\", \"sentiment\", \"predicted_score\", \n",
    "                                \"predicted_sentiment\", \"sentiment_id\", \"predicted_sentiment_id\")"
   ]
  },
  {
   "cell_type": "code",
   "execution_count": 0,
   "metadata": {
    "application/vnd.databricks.v1+cell": {
     "cellMetadata": {
      "byteLimit": 2048000,
      "rowLimit": 10000
     },
     "inputWidgets": {},
     "nuid": "edd4477c-ced2-4ec2-8bd9-a1341e463dcb",
     "showTitle": false,
     "tableResultSettingsMap": {},
     "title": ""
    }
   },
   "outputs": [],
   "source": [
    "gold_df = spark.read.format(\"delta\").load(GOLD_DELTA).limit(1)\n",
    "print(\"Schema of gold_df:\")\n",
    "gold_df.printSchema()"
   ]
  },
  {
   "cell_type": "code",
   "execution_count": 0,
   "metadata": {
    "application/vnd.databricks.v1+cell": {
     "cellMetadata": {
      "byteLimit": 2048000,
      "rowLimit": 10000
     },
     "inputWidgets": {},
     "nuid": "4aac747a-6825-463c-bb39-57ccb0ac2cda",
     "showTitle": false,
     "tableResultSettingsMap": {},
     "title": ""
    }
   },
   "outputs": [],
   "source": [
    "# # Insert the transformed row into GOLD_DELTA\n",
    "# transformed_df.write.format(\"delta\").mode(\"append\").save(GOLD_DELTA)"
   ]
  },
  {
   "cell_type": "code",
   "execution_count": 0,
   "metadata": {
    "application/vnd.databricks.v1+cell": {
     "cellMetadata": {
      "byteLimit": 2048000,
      "rowLimit": 10000
     },
     "inputWidgets": {},
     "nuid": "8ca2c69b-c2e9-4c01-b1d9-361518e84c18",
     "showTitle": false,
     "tableResultSettingsMap": {},
     "title": ""
    }
   },
   "outputs": [],
   "source": [
    "# # Count the number of rows in GOLD_DELTA\n",
    "# gold_row_count = spark.read.format(\"delta\").load(GOLD_DELTA).count()\n",
    "# print(f\"Number of rows in GOLD_DELTA: {gold_row_count}\")"
   ]
  },
  {
   "cell_type": "code",
   "execution_count": 0,
   "metadata": {
    "application/vnd.databricks.v1+cell": {
     "cellMetadata": {
      "byteLimit": 2048000,
      "rowLimit": 10000
     },
     "inputWidgets": {},
     "nuid": "50bdc263-f865-433f-b1d4-3396ff310414",
     "showTitle": false,
     "tableResultSettingsMap": {},
     "title": ""
    }
   },
   "outputs": [],
   "source": [
    "# # Select one row from SILVER_DELTA\n",
    "# silver_df = spark.read.format(\"delta\").load(SILVER_DELTA).limit(1)\n",
    "\n",
    "# # Apply transformation\n",
    "# transformed_df = silver_df.select(\"cleaned_text\", classify_sentiment_udf(F.col(\"cleaned_text\")).alias(\"sentiment\"))\n",
    "\n",
    "# # Print schemas to compare\n",
    "# print(\"Schema of transformed_df:\")\n",
    "# transformed_df.printSchema()\n",
    "\n",
    "# gold_df = spark.read.format(\"delta\").load(GOLD_DELTA).limit(1)\n",
    "# print(\"Schema of gold_df:\")\n",
    "# gold_df.printSchema()\n",
    "\n",
    "# # Insert the transformed row into GOLD_DELTA\n",
    "# transformed_df.write.format(\"delta\").mode(\"append\").save(GOLD_DELTA)"
   ]
  },
  {
   "cell_type": "code",
   "execution_count": 0,
   "metadata": {
    "application/vnd.databricks.v1+cell": {
     "cellMetadata": {
      "byteLimit": 2048000,
      "rowLimit": 10000
     },
     "inputWidgets": {},
     "nuid": "9a464ebf-c857-477a-8fd6-c8d805b11bbe",
     "showTitle": false,
     "tableResultSettingsMap": {},
     "title": ""
    }
   },
   "outputs": [],
   "source": [
    "# df = spark.read.format(\"delta\").load(SILVER_DELTA)\n",
    "# df.select(\"cleaned_text\", classify_sentiment_udf(F.col(\"cleaned_text\"))).show()"
   ]
  },
  {
   "cell_type": "code",
   "execution_count": 0,
   "metadata": {
    "application/vnd.databricks.v1+cell": {
     "cellMetadata": {
      "byteLimit": 2048000,
      "rowLimit": 10000
     },
     "inputWidgets": {},
     "nuid": "51ba96b8-fdc6-4ec5-9301-b6719a773330",
     "showTitle": false,
     "tableResultSettingsMap": {},
     "title": ""
    }
   },
   "outputs": [],
   "source": [
    "# # --- Start Gold Stream ---\n",
    "# spark.sparkContext.setLocalProperty(\"spark.scheduler.pool\", \"gold_pool\")\n",
    "# gold_query = start_gold_stream()"
   ]
  },
  {
   "cell_type": "code",
   "execution_count": 0,
   "metadata": {
    "application/vnd.databricks.v1+cell": {
     "cellMetadata": {
      "byteLimit": 2048000,
      "rowLimit": 10000
     },
     "inputWidgets": {},
     "nuid": "71970ded-e5df-40f8-845a-5e9c232e4931",
     "showTitle": false,
     "tableResultSettingsMap": {},
     "title": ""
    }
   },
   "outputs": [],
   "source": [
    "# silver_query.status"
   ]
  },
  {
   "cell_type": "code",
   "execution_count": 0,
   "metadata": {
    "application/vnd.databricks.v1+cell": {
     "cellMetadata": {
      "byteLimit": 2048000,
      "rowLimit": 10000
     },
     "inputWidgets": {},
     "nuid": "f114d47b-3aeb-4f6f-86d2-e51818ececc4",
     "showTitle": false,
     "tableResultSettingsMap": {},
     "title": ""
    }
   },
   "outputs": [],
   "source": [
    "# for s in spark.streams.active:\n",
    "#     print(f\"Name: {s.name}, ID: {s.id}, Status: {s.status['message']}\")\n"
   ]
  },
  {
   "cell_type": "markdown",
   "metadata": {
    "application/vnd.databricks.v1+cell": {
     "cellMetadata": {
      "byteLimit": 2048000,
      "rowLimit": 10000
     },
     "inputWidgets": {},
     "nuid": "9bc3e824-d218-43e5-a43b-4c6dbe31950d",
     "showTitle": false,
     "tableResultSettingsMap": {},
     "title": ""
    }
   },
   "source": [
    "## 7.0 Bronze Data Exploratory Data Analysis (5 points)\n",
    "- How many tweets are captured in your Bronze Table?\n",
    "- Are there any columns that contain Nan or Null values?  If so how many and what will you do in your silver transforms to address this?\n",
    "- Count the number of tweets by each unique user handle and sort the data by descending count.\n",
    "- How many tweets have at least one mention (@) how many tweet have no mentions (@)\n",
    "- Plot a bar chart that shows the top 20 tweeters (users)\n"
   ]
  },
  {
   "cell_type": "code",
   "execution_count": 0,
   "metadata": {
    "application/vnd.databricks.v1+cell": {
     "cellMetadata": {
      "byteLimit": 2048000,
      "rowLimit": 10000
     },
     "inputWidgets": {},
     "nuid": "5da06bbd-b8f4-460f-9692-d9e6da37044a",
     "showTitle": false,
     "tableResultSettingsMap": {},
     "title": ""
    }
   },
   "outputs": [],
   "source": [
    "df_bronze_delta = spark.read.format(\"delta\").load(BRONZE_DELTA)"
   ]
  },
  {
   "cell_type": "code",
   "execution_count": 0,
   "metadata": {
    "application/vnd.databricks.v1+cell": {
     "cellMetadata": {
      "byteLimit": 2048000,
      "rowLimit": 10000
     },
     "inputWidgets": {},
     "nuid": "33e05866-0264-43af-8a95-52e841124d60",
     "showTitle": false,
     "tableResultSettingsMap": {},
     "title": ""
    }
   },
   "outputs": [],
   "source": [
    "# ENTER YOUR CODE HERE\n",
    "# Count the number of tweets in the Bronze Table\n",
    "tweet_count = df_bronze_delta.count()\n",
    "\n",
    "# Check for columns with NaN or Null values\n",
    "null_counts = df_bronze_delta.select([\n",
    "    F.count(\n",
    "        F.when(\n",
    "            (F.col(c).cast('double').isNotNull() & F.isnan(F.col(c).cast('double'))) | F.col(c).isNull(), \n",
    "            c\n",
    "        )\n",
    "    ).alias(c) \n",
    "    for c in df_bronze_delta.columns if df_bronze_delta.schema[c].dataType in [DoubleType(), FloatType()]\n",
    "])\n",
    "\n",
    "# Count the number of tweets by each unique user handle and sort by descending count\n",
    "user_tweet_counts = df_bronze_delta.groupBy(\"user\").count().orderBy(F.desc(\"count\"))\n",
    "\n",
    "# Count tweets with at least one mention (@) and tweets with no mentions (@)\n",
    "tweets_with_mentions = df_bronze_delta.filter(F.col(\"text\").contains(\"@\")).count()\n",
    "tweets_without_mentions = df_bronze_delta.filter(~F.col(\"text\").contains(\"@\")).count()\n",
    "\n",
    "# Plot a bar chart showing the top 20 tweeters (users)\n",
    "top_20_tweeters = user_tweet_counts.limit(20)\n",
    "display(top_20_tweeters)\n",
    "\n",
    "# Display results\n",
    "display(null_counts)\n",
    "display(user_tweet_counts)\n",
    "print(f\"Total tweets: {tweet_count}\")\n",
    "print(f\"Tweets with mentions: {tweets_with_mentions}\")\n",
    "print(f\"Tweets without mentions: {tweets_without_mentions}\")"
   ]
  },
  {
   "cell_type": "code",
   "execution_count": 0,
   "metadata": {
    "application/vnd.databricks.v1+cell": {
     "cellMetadata": {
      "byteLimit": 2048000,
      "rowLimit": 10000
     },
     "inputWidgets": {},
     "nuid": "498820f2-5ba5-40f1-a24c-619803c0cf59",
     "showTitle": false,
     "tableResultSettingsMap": {},
     "title": ""
    }
   },
   "outputs": [],
   "source": [
    "# Convert top_20_tweeters to Pandas DataFrame for plotting\n",
    "top_20_tweeters_pd = top_20_tweeters.toPandas()\n",
    "\n",
    "# Plotting the bar graph\n",
    "plt.figure(figsize=(10, 6))\n",
    "plt.bar(top_20_tweeters_pd['user'], top_20_tweeters_pd['count'], color='skyblue')\n",
    "plt.xlabel('User')\n",
    "plt.ylabel('Tweet Count')\n",
    "plt.title('Top 20 Tweeters')\n",
    "plt.xticks(rotation=45, ha='right')\n",
    "plt.tight_layout()\n",
    "plt.show()"
   ]
  },
  {
   "cell_type": "markdown",
   "metadata": {
    "application/vnd.databricks.v1+cell": {
     "cellMetadata": {
      "byteLimit": 2048000,
      "rowLimit": 10000
     },
     "inputWidgets": {},
     "nuid": "0494d8b4-5a55-47fc-af12-47325f34a303",
     "showTitle": false,
     "tableResultSettingsMap": {},
     "title": ""
    }
   },
   "source": [
    "## 8.0 Capture the accuracy metrics from the gold table in MLflow  (4 points)\n",
    "Store the following in an MLflow experiment run:\n",
    "- Store the precision, recall, and F1-score as MLflow metrics\n",
    "- Store an image of the confusion matrix as an MLflow artifact\n",
    "- Store the model name and the MLflow version that was used as an MLflow parameters\n",
    "- Store the version of the Delta Table (input-silver) as an MLflow parameter"
   ]
  },
  {
   "cell_type": "code",
   "execution_count": 0,
   "metadata": {
    "application/vnd.databricks.v1+cell": {
     "cellMetadata": {
      "byteLimit": 2048000,
      "rowLimit": 10000
     },
     "inputWidgets": {},
     "nuid": "3bb174ad-67e4-4b0a-be36-ff20a760ee8b",
     "showTitle": false,
     "tableResultSettingsMap": {},
     "title": ""
    }
   },
   "outputs": [],
   "source": [
    "# ENTER YOUR CODE HERE\n",
    "gold_df = spark.read.format(\"delta\").load(GOLD_DELTA)\n",
    "pred = gold_df.select(\"sentiment_id\", \"predicted_sentiment_id\").dropna().toPandas()\n",
    "y_true = pred[\"sentiment_id\"]\n",
    "y_pred = pred[\"predicted_sentiment_id\"]\n",
    "\n",
    "# Compute metrics\n",
    "precision = precision_score(y_true, y_pred)\n",
    "recall = recall_score(y_true, y_pred)\n",
    "f1 = f1_score(y_true, y_pred)\n",
    "cm = confusion_matrix(y_true, y_pred)\n",
    "\n",
    "with mlflow.start_run():\n",
    "    mlflow.log_metric(\"precision\", precision)\n",
    "    mlflow.log_metric(\"recall\", recall)\n",
    "    mlflow.log_metric(\"f1_score\", f1)\n",
    "\n",
    "    plt.figure(figsize=(5, 4))\n",
    "    sns.heatmap(cm, annot=True, fmt=\"d\", cmap=\"Blues\", xticklabels=[\"Negative\", \"Positive\"], yticklabels=[\"Negative\", \"Positive\"])\n",
    "    plt.xlabel(\"Pred\")\n",
    "    plt.ylabel(\"True\")\n",
    "    plt.title(\"Confusion Matrix\")\n",
    "\n",
    "    plt.tight_layout()\n",
    "    plt.savefig(\"/tmp/confusion_matrix.png\")\n",
    "    mlflow.log_artifact(\"/tmp/confusion_matrix.png\")\n",
    "\n",
    "    mlflow.log_param(\"model_name\", MODEL_NAME)\n",
    "    mlflow.log_param(\"model_version\", \"production\")\n",
    "\n",
    "    silver_version = spark.sql(f\"DESCRIBE HISTORY delta.`{SILVER_DELTA}`\").select(\"version\").first()[0]\n",
    "    mlflow.log_param(\"silver_table_version\", silver_version)\n"
   ]
  },
  {
   "cell_type": "markdown",
   "metadata": {
    "application/vnd.databricks.v1+cell": {
     "cellMetadata": {
      "byteLimit": 2048000,
      "rowLimit": 10000
     },
     "inputWidgets": {},
     "nuid": "81e0e2de-b872-4698-81cc-1669646c2183",
     "showTitle": false,
     "tableResultSettingsMap": {},
     "title": ""
    }
   },
   "source": [
    "## 9.0 Application Data Processing and Visualization (6 points)\n",
    "- How many mentions are there in the gold data total?\n",
    "- Count the number of neutral, positive and negative tweets for each mention in new columns\n",
    "- Capture the total for each mention in a new column\n",
    "- Sort the mention count totals in descending order\n",
    "- Plot a bar chart of the top 20 mentions with positive sentiment (the people who are in favor)\n",
    "- Plot a bar chart of the top 20 mentions with negative sentiment (the people who are the vilians)\n",
    "\n",
    "*note: A mention is a specific twitter user that has been \"mentioned\" in a tweet with an @user reference."
   ]
  },
  {
   "cell_type": "code",
   "execution_count": 0,
   "metadata": {
    "application/vnd.databricks.v1+cell": {
     "cellMetadata": {
      "byteLimit": 2048000,
      "rowLimit": 10000
     },
     "inputWidgets": {},
     "nuid": "8250667b-eaa5-48a1-90c7-bfe11e666e32",
     "showTitle": false,
     "tableResultSettingsMap": {},
     "title": ""
    }
   },
   "outputs": [],
   "source": [
    "# ENTER YOUR CODE HERE\n",
    "# Extract mentions\n",
    "mention_count = gold_df.count()\n",
    "print(f\"Number of mentions in the gold data is: {mention_count}\")\n",
    "\n",
    "# count(*) group by mention, sentiment\n",
    "mentions_sentiment_count = (\n",
    "    gold_df.groupBy(\"mention\")\n",
    "        .agg(\n",
    "            count(when(col(\"sentiment\") == \"neutral\", True)).alias(\"neutral_count\"),\n",
    "            count(when(col(\"sentiment\") == \"positive\", True)).alias(\"positive_count\"),\n",
    "            count(when(col(\"sentiment\") == \"negative\", True)).alias(\"negative_count\")\n",
    "            )\n",
    "        .withColumn(\"total_count\", \n",
    "                    col(\"neutral_count\") + col(\"positive_count\") + col(\"negative_count\"))\n",
    "        .orderBy(col(\"total_count\").desc())\n",
    ")\n",
    "\n",
    "# to pandas\n",
    "mentions_sentiment_count_pd = mentions_sentiment_count.toPandas()\n",
    "\n",
    "# top 20 positive comments\n",
    "t20_pos_mention = mentions_sentiment_count_pd.nlargest(20, 'positive_count')\n",
    "\n",
    "t20_pos_mention.plot.bar(x=\"mention\", y=\"positive_count\", legend=False, figsize=(15, 9), title=\"Top 20 Mentions with Positive Sentiment\")\n",
    "plt.ylabel(\"Number of Positive Tweets\")\n",
    "plt.xlabel(\"Mention\")\n",
    "plt.xticks(rotation=45)\n",
    "plt.tight_layout()\n",
    "plt.show()\n",
    "\n",
    "# top 20 negative comments\n",
    "t20_neg_mention = mentions_sentiment_count_pd.nlargest(20, 'negative_count')\n",
    "t20_neg_mention.plot.bar(x=\"mention\", y=\"negative_count\", legend=False, figsize=(15, 9), title=\"Top 20 Mentions with Negative Sentiment\")\n",
    "plt.ylabel(\"Number of Negative Tweets\")\n",
    "plt.xlabel(\"Mention\")\n",
    "plt.xticks(rotation=45)\n",
    "plt.tight_layout()\n",
    "plt.show()"
   ]
  },
  {
   "cell_type": "markdown",
   "metadata": {
    "application/vnd.databricks.v1+cell": {
     "cellMetadata": {
      "byteLimit": 2048000,
      "rowLimit": 10000
     },
     "inputWidgets": {},
     "nuid": "5d5add3f-0c13-4d81-86d8-12cf3cfdd2c8",
     "showTitle": false,
     "tableResultSettingsMap": {},
     "title": ""
    }
   },
   "source": [
    "## 10.0 Clean up and completion of your pipeline (3 points)\n",
    "- using the utilities what streams are running? If any.\n",
    "- Stop all active streams\n",
    "- print out the elapsed time of your notebook. Note: In the includes there is a variable START_TIME that captures the starting time of the notebook."
   ]
  },
  {
   "cell_type": "code",
   "execution_count": 0,
   "metadata": {
    "application/vnd.databricks.v1+cell": {
     "cellMetadata": {
      "byteLimit": 2048000,
      "rowLimit": 10000
     },
     "inputWidgets": {},
     "nuid": "0304e685-c26e-447d-b230-c37266f30003",
     "showTitle": false,
     "tableResultSettingsMap": {},
     "title": ""
    }
   },
   "outputs": [],
   "source": [
    "# ENTER YOUR CODE HERE"
   ]
  },
  {
   "cell_type": "markdown",
   "metadata": {
    "application/vnd.databricks.v1+cell": {
     "cellMetadata": {
      "byteLimit": 2048000,
      "rowLimit": 10000
     },
     "inputWidgets": {},
     "nuid": "b88fc0e5-f50c-4ed1-9480-16a4c8a44b30",
     "showTitle": false,
     "tableResultSettingsMap": {},
     "title": ""
    }
   },
   "source": [
    "## 11.0 How Optimized is your Spark Application (Grad Students Only) (5 points)\n",
    "Graduate students (registered for the DSCC-402 section of the course) are required to do this section.  This is a written analysis using the Spark UI (link to screen shots) that support your analysis of your pipelines execution and what is driving its performance.\n",
    "Recall that Spark Optimization has 5 significant dimensions of considertation:\n",
    "- Spill: write to executor disk due to lack of memory\n",
    "- Skew: imbalance in partition size\n",
    "- Shuffle: network io moving data between executors (wide transforms)\n",
    "- Storage: inefficiency due to disk storage format (small files, location)\n",
    "- Serialization: distribution of code segments across the cluster\n",
    "\n",
    "Comment on each of the dimentions of performance and how your impelementation is or is not being affected.  Use specific information in the Spark UI to support your description.  \n",
    "\n",
    "Note: you can take sreenshots of the Spark UI from your project runs in databricks and then link to those pictures by storing them as a publicly accessible file on your cloud drive (google, one drive, etc.)\n",
    "\n",
    "References:\n",
    "- [Spark UI Reference Reference](https://spark.apache.org/docs/latest/web-ui.html#web-ui)\n",
    "- [Spark UI Simulator](https://www.databricks.training/spark-ui-simulator/index.html)"
   ]
  },
  {
   "cell_type": "markdown",
   "metadata": {
    "application/vnd.databricks.v1+cell": {
     "cellMetadata": {
      "byteLimit": 2048000,
      "rowLimit": 10000
     },
     "inputWidgets": {},
     "nuid": "a0a5707d-a5ca-4e87-9e74-3b13d00337b0",
     "showTitle": false,
     "tableResultSettingsMap": {},
     "title": ""
    }
   },
   "source": [
    "### ENTER YOUR MARKDOWN HERE"
   ]
  }
 ],
 "metadata": {
  "application/vnd.databricks.v1+notebook": {
   "computePreferences": null,
   "dashboards": [],
   "environmentMetadata": null,
   "inputWidgetPreferences": null,
   "language": "python",
   "notebookMetadata": {
    "mostRecentlyExecutedCommandWithImplicitDF": {
     "commandId": -1,
     "dataframes": [
      "_sqldf"
     ]
    },
    "pythonIndentUnit": 4,
    "widgetLayout": [
     {
      "breakBefore": false,
      "name": "clear_previous_run",
      "width": 203
     },
     {
      "breakBefore": false,
      "name": "stop_streams",
      "width": 203
     }
    ]
   },
   "notebookName": "Starter Streaming Tweet Sentiment - Spring 2025 Final Project",
   "widgets": {
    "clear_previous_run": {
     "currentValue": "No",
     "nuid": "11b43403-c70f-41ef-ab0e-41172583baaa",
     "typedWidgetInfo": {
      "autoCreated": false,
      "defaultValue": "No",
      "label": null,
      "name": "clear_previous_run",
      "options": {
       "widgetDisplayType": "Dropdown",
       "choices": [
        "No",
        "Yes"
       ],
       "fixedDomain": true,
       "multiselect": false
      },
      "parameterDataType": "String"
     },
     "widgetInfo": {
      "widgetType": "dropdown",
      "defaultValue": "No",
      "label": null,
      "name": "clear_previous_run",
      "options": {
       "widgetType": "dropdown",
       "autoCreated": null,
       "choices": [
        "No",
        "Yes"
       ]
      }
     }
    },
    "optimize_tables": {
     "currentValue": "Yes",
     "nuid": "d27f2950-3146-4010-8bc6-58c47a93e7a9",
     "typedWidgetInfo": {
      "autoCreated": false,
      "defaultValue": "No",
      "label": null,
      "name": "optimize_tables",
      "options": {
       "widgetDisplayType": "Dropdown",
       "choices": [
        "No",
        "Yes"
       ],
       "fixedDomain": true,
       "multiselect": false
      },
      "parameterDataType": "String"
     },
     "widgetInfo": {
      "widgetType": "dropdown",
      "defaultValue": "No",
      "label": null,
      "name": "optimize_tables",
      "options": {
       "widgetType": "dropdown",
       "autoCreated": null,
       "choices": [
        "No",
        "Yes"
       ]
      }
     }
    },
    "stop_streams": {
     "currentValue": "No",
     "nuid": "d70a2190-266e-473c-86a7-84f7bf56b386",
     "typedWidgetInfo": {
      "autoCreated": false,
      "defaultValue": "No",
      "label": null,
      "name": "stop_streams",
      "options": {
       "widgetDisplayType": "Dropdown",
       "choices": [
        "No",
        "Yes"
       ],
       "fixedDomain": true,
       "multiselect": false
      },
      "parameterDataType": "String"
     },
     "widgetInfo": {
      "widgetType": "dropdown",
      "defaultValue": "No",
      "label": null,
      "name": "stop_streams",
      "options": {
       "widgetType": "dropdown",
       "autoCreated": null,
       "choices": [
        "No",
        "Yes"
       ]
      }
     }
    }
   }
  },
  "language_info": {
   "name": "python"
  }
 },
 "nbformat": 4,
 "nbformat_minor": 0
}
